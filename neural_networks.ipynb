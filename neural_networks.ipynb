{
 "cells": [
  {
   "cell_type": "markdown",
   "metadata": {
    "id": "QRBDdr0SEqpT"
   },
   "source": [
    "# Assignment 4"
   ]
  },
  {
   "cell_type": "markdown",
   "metadata": {
    "id": "8xd57TRzExEr"
   },
   "source": [
    "**Assignment 4: Neural Networks**\n",
    "\n",
    "**Goal**: ​Get familiar with neural networks by implementing them and applying them to image classification."
   ]
  },
  {
   "cell_type": "markdown",
   "metadata": {
    "id": "yHNgWB1iFDu5"
   },
   "source": [
    "In this assignment we are going to learn about neural networks (NNs). The goal is to implement two neural networks: a fully-connected neural network, a convolutional neural network, and analyze their behavior.\n",
    "\n",
    "The considered task is image classification. We consider a dataset of small natural images (see the additional file) with multiple classes. We aim at formulating a model (a neural network) and learning it using the negative log-likelihood function (i.e., the cross-entropy loss) as the objective function, and the stochastic gradient descent as the optimizer.\n",
    "\n",
    "In this assignment, ​**the code must be implemented in PyTorch**."
   ]
  },
  {
   "cell_type": "markdown",
   "metadata": {
    "id": "Jxgc7c--P0GH"
   },
   "source": [
    "## 1 Understanding the problem\n",
    "\n"
   ]
  },
  {
   "cell_type": "markdown",
   "metadata": {
    "id": "oRteDLEPP3eX"
   },
   "source": [
    "The considered problem is about classifying images to $L$ classes. In the first part of the assignment, you are asked get familiar with PyTorch, a deep learning library, and the basics of neural networks, and implement neural-network-based classifiers. For this purpose, we will start with classifying small images (8px x 8px) of handwritten digits to one of 10 classes. The dataset is very small and all experiments could be achieved within a couple of minutes.\n",
    "\n",
    "In the second part, you are asked to implement the whole pipeline for a given dataset by yourself.\n",
    "\n",
    "Please run the code below and spend a while on analyzing the images.\n",
    "\n",
    "If any code line is unclear to you, please read on that in numpy, scipy, matplotlib and PyTorch docs."
   ]
  },
  {
   "cell_type": "code",
   "execution_count": 1,
   "metadata": {
    "id": "g4wCnPRz-MaE"
   },
   "outputs": [],
   "source": [
    "import os\n",
    "\n",
    "import matplotlib.pyplot as plt\n",
    "import numpy as np\n",
    "import torch\n",
    "import torch.nn as nn\n",
    "import torch.nn.functional as F\n",
    "from sklearn import datasets\n",
    "from sklearn.datasets import load_digits\n",
    "from torch.utils.data import DataLoader, Dataset\n",
    "\n",
    "EPS = 1.0e-7"
   ]
  },
  {
   "cell_type": "code",
   "execution_count": 2,
   "metadata": {
    "id": "mRmwbuamRuge"
   },
   "outputs": [],
   "source": [
    "# # IF YOU USE COLAB, THIS IS VERY USEFUL! OTHERWISE, PLEASE REMOVE IT.\n",
    "# # mount drive: WE NEED IT FOR SAVING IMAGES!\n",
    "# from google.colab import drive\n",
    "\n",
    "# drive.mount(\"/content/gdrive\")"
   ]
  },
  {
   "cell_type": "code",
   "execution_count": 3,
   "metadata": {
    "id": "KEiEJE5sRvjc"
   },
   "outputs": [],
   "source": [
    "# IF YOU USE COLAB, THIS IS VERY USEFUL! OTHERWISE, PLEASE REMOVE IT.\n",
    "# PLEASE CHANGE IT TO YOUR OWN GOOGLE DRIVE!\n",
    "results_dir = \"/content/gdrive/My_Drive/Colab Notebooks/TEACHING/\""
   ]
  },
  {
   "cell_type": "code",
   "execution_count": 4,
   "metadata": {
    "id": "Xm4e0Utl-30c"
   },
   "outputs": [],
   "source": [
    "# PLEASE DO NOT REMOVE!\n",
    "# This is a class for the dataset of small (8px x 8px) digits.\n",
    "# Please try to understand in details how it works!\n",
    "class Digits(Dataset):\n",
    "    \"\"\"Scikit-Learn Digits dataset.\"\"\"\n",
    "\n",
    "    def __init__(self, mode=\"train\", transforms=None):\n",
    "        digits = load_digits()\n",
    "        if mode == \"train\":\n",
    "            self.data = digits.data[:1000].astype(np.float32)\n",
    "            self.targets = digits.target[:1000]\n",
    "        elif mode == \"val\":\n",
    "            self.data = digits.data[1000:1350].astype(np.float32)\n",
    "            self.targets = digits.target[1000:1350]\n",
    "        else:\n",
    "            self.data = digits.data[1350:].astype(np.float32)\n",
    "            self.targets = digits.target[1350:]\n",
    "\n",
    "        self.transforms = transforms\n",
    "\n",
    "    def __len__(self):\n",
    "        return len(self.data)\n",
    "\n",
    "    def __getitem__(self, idx):\n",
    "        sample_x = self.data[idx]\n",
    "        sample_y = self.targets[idx]\n",
    "        if self.transforms:\n",
    "            sample_x = self.transforms(sample_x)\n",
    "        return (sample_x, sample_y)"
   ]
  },
  {
   "cell_type": "code",
   "execution_count": 5,
   "metadata": {
    "id": "bnDz_yGeuOnh"
   },
   "outputs": [
    {
     "data": {
      "image/png": "[encoded data removed]",
      "text/plain": [
       "<Figure size 288x288 with 16 Axes>"
      ]
     },
     "metadata": {
      "needs_background": "light"
     },
     "output_type": "display_data"
    }
   ],
   "source": [
    "# PLEASE DO NOT REMOVE\n",
    "# Here, we plot some images (8px x 8px).\n",
    "digits = load_digits()\n",
    "x = digits.data[:16].astype(np.float32)\n",
    "\n",
    "fig_data, axs = plt.subplots(4, 4, figsize=(4, 4))\n",
    "fig_data.tight_layout()\n",
    "\n",
    "for i in range(4):\n",
    "    for j in range(4):\n",
    "        img = np.reshape(x[4 * i + j], (8, 8))\n",
    "        axs[i, j].imshow(img, cmap=\"gray\")\n",
    "        axs[i, j].axis(\"off\")"
   ]
  },
  {
   "cell_type": "markdown",
   "metadata": {
    "id": "wgc_GFOyRBEi"
   },
   "source": [
    "## 2 Neural Networks for Digits (4pt)"
   ]
  },
  {
   "cell_type": "markdown",
   "metadata": {
    "id": "gDVf1vyORGUB"
   },
   "source": [
    "In this assignment, you are asked to implement a neural network (NN) classifier. Please take a look at the class below and fill in the missing parts.\n",
    "\n",
    "NOTE: Please pay attention to the inputs and outputs of each function."
   ]
  },
  {
   "cell_type": "markdown",
   "metadata": {
    "id": "iwuEfxSKpFtD"
   },
   "source": [
    "### 2.1 Neural Network Classifier"
   ]
  },
  {
   "cell_type": "markdown",
   "metadata": {
    "id": "9FThxxdkpKcQ"
   },
   "source": [
    "Below, we have two helper modules (layers) that can be used to reshape and flatten a tensor. They are useful for creating sequentials with convolutional layers."
   ]
  },
  {
   "cell_type": "code",
   "execution_count": 6,
   "metadata": {
    "id": "5AB5Ch63Ak01"
   },
   "outputs": [],
   "source": [
    "# PLEASE DO NOT REMOVE!\n",
    "# Here are two auxiliary functions that can be used for a convolutional NN (CNN).\n",
    "\n",
    "\n",
    "# This module reshapes an input (matrix -> tensor).\n",
    "class Reshape(nn.Module):\n",
    "    def __init__(self, size):\n",
    "        super(Reshape, self).__init__()\n",
    "        self.size = size  # a list\n",
    "\n",
    "    def forward(self, x):\n",
    "        assert x.shape[1] == np.prod(self.size)\n",
    "        return x.view(x.shape[0], *self.size)\n",
    "\n",
    "\n",
    "# This module flattens an input (tensor -> matrix) by blending dimensions\n",
    "# beyond the batch size.\n",
    "class Flatten(nn.Module):\n",
    "    def __init__(self):\n",
    "        super(Flatten, self).__init__()\n",
    "\n",
    "    def forward(self, x):\n",
    "        return x.view(x.shape[0], -1)"
   ]
  },
  {
   "cell_type": "markdown",
   "metadata": {
    "id": "x3i9R3NmpUY3"
   },
   "source": [
    "Below is the main class for a classifier parameterized by a neural network."
   ]
  },
  {
   "cell_type": "code",
   "execution_count": 7,
   "metadata": {
    "id": "Vtv_pAkmOrS3"
   },
   "outputs": [],
   "source": [
    "# =========\n",
    "# GRADING:\n",
    "# 0\n",
    "# 0.5 pt if code works but it is explained badly\n",
    "# 1.0 pt if code works and it is explained well\n",
    "# =========\n",
    "# Implement a neural network (NN) classifier.\n",
    "class ClassifierNeuralNet(nn.Module):\n",
    "    def __init__(self, classnet):\n",
    "        super(ClassifierNeuralNet, self).__init__()\n",
    "        \n",
    "        # We provide a sequential module with layers and activations\n",
    "        self.classnet = classnet # classifier network - our actual classif function\n",
    "        \n",
    "        # The loss function (the negative log-likelihood)\n",
    "        self.nll = nn.NLLLoss(reduction=\"none\")  # it requires log-softmax as input!! # our loss function\n",
    "        \n",
    "        # we have 8x8 pixels, each pixel is an input param, so it would be 64 dim problem. \n",
    "\n",
    "    # This function classifies an image x to a class.\n",
    "    # The output must be a class label (long). # return log vals not actual label as such\n",
    "    def classify(self, x):\n",
    "        \n",
    "        # passing the input through the classnet first\n",
    "        y_pred = self.classnet(x)\n",
    "        # applying argmax to get the highest log likelihood prob aka most likely label\n",
    "        y_pred =  y_pred.argmax(dim=1)\n",
    "\n",
    "        return y_pred\n",
    "\n",
    "    # This function is crucial for a module in PyTorch.\n",
    "    # In our framework, this class outputs a value of the loss function.\n",
    "    def forward(self, x, y, reduction=\"avg\"):\n",
    "        \n",
    "        # run thru classnet to get longs\n",
    "        y_pred = self.classnet(x)\n",
    "        # as defined below, the cdde tranlation of the mathematical nll formula requires the actual label and the probability (long is for correct formatting)\n",
    "        loss = self.nll(y_pred, y.long())\n",
    "        \n",
    "        if reduction == \"sum\":\n",
    "            return loss.sum()\n",
    "        else:\n",
    "            return loss.mean()"
   ]
  },
  {
   "cell_type": "markdown",
   "metadata": {
    "id": "bwaou1x-gmx3"
   },
   "source": [
    "**Question 1 (0-0.5pt):** What is the objective function for a classification task? In other words, what is nn.NLLLoss in the code above? Pelase write it in mathematical terms.\n",
    "\n",
    "**Answer:**\n",
    "The objective function for a classification task qith multiple classes is in our case the Negative log likelihood loss, which we use by nn.NLLLoss. In general, it gives how likely our model is to correctly predicts the class label for our data. It is something we try to minimize which is essetnially the same as improving the quality of our algortihm (accuracy of label prediction) in layman's terms. NLLLoss is calculated by taking the negative sum of y times log of p, -sum(y*log(p)) where y is the correct/actual label is p is the probability of that label. More deeply Negative log likelihood loss can be defined as  -\\sum_{i=1}^n y_i \\log p_i which is the same but more formally correct, where n is the number of instances we look at and then iterate over each y and its log(p)."
   ]
  },
  {
   "cell_type": "markdown",
   "metadata": {
    "id": "kvX88kN-irAD"
   },
   "source": [
    "**Question 2 (0-0.5pt):** In the code above, it is said to use the logarithm of the softmax as the final activation function. Is it correct to use the log-softmax instead of the softmax for making predictions (i.e., picking the most probable label).\n",
    "\n",
    "**Answer:** It is correct to use the log version for making predictions, and we need to use it as our forward function calls for it (when calculating loss). Logs are inherintly better when dealing with small numbers, as it is a less unstable. So, in our case, the log probabilities are more stable thanjust softmax probabilities would be. Other than the forward method, we also use the log softmax in 'classify' which is where the actual prediciton are being output. Here, it takes the highest log probability and using argmax chooses it, resulting in returning the most likely label. sing the log version gives more mathematically stable results less prone to small errors."
   ]
  },
  {
   "cell_type": "markdown",
   "metadata": {
    "id": "HVqRQduw3mgm"
   },
   "source": [
    "### 2.2 Evaluation"
   ]
  },
  {
   "cell_type": "code",
   "execution_count": 8,
   "metadata": {
    "id": "4g9uUFgYP1kT"
   },
   "outputs": [],
   "source": [
    "# PLEASE DO NOT REMOVE\n",
    "def evaluation(test_loader, name=None, model_best=None, epoch=None):\n",
    "    # If available, load the best performing model\n",
    "    if model_best is None:\n",
    "        model_best = torch.load(name + \".model\")\n",
    "\n",
    "    model_best.eval()  # set the model to the evaluation mode\n",
    "    loss_test = 0.0\n",
    "    loss_error = 0.0\n",
    "    N = 0.0\n",
    "    # start evaluation\n",
    "    for indx_batch, (test_batch, test_targets) in enumerate(test_loader):\n",
    "        # loss (nll)\n",
    "        loss_test_batch = model_best.forward(test_batch, test_targets, reduction=\"sum\")\n",
    "        loss_test = loss_test + loss_test_batch.item()\n",
    "        # classification error\n",
    "        y_pred = model_best.classify(test_batch)\n",
    "        e = 1.0 * (y_pred == test_targets)\n",
    "        loss_error = loss_error + (1.0 - e).sum().item()\n",
    "        # the number of examples\n",
    "        N = N + test_batch.shape[0]\n",
    "    # divide by the number of examples\n",
    "    loss_test = loss_test / N\n",
    "    loss_error = loss_error / N\n",
    "\n",
    "    # Print the performance\n",
    "    if epoch is None:\n",
    "        print(f\"-> FINAL PERFORMANCE: nll={loss_test}, ce={loss_error}\")\n",
    "    else:\n",
    "        if epoch % 10 == 0:\n",
    "            print(f\"Epoch: {epoch}, val nll={loss_test}, val ce={loss_error}\")\n",
    "\n",
    "    return loss_test, loss_error\n",
    "\n",
    "\n",
    "# An auxiliary function for plotting the performance curves\n",
    "def plot_curve(\n",
    "    name,\n",
    "    signal,\n",
    "    file_name=\"curve.pdf\",\n",
    "    xlabel=\"epochs\",\n",
    "    ylabel=\"nll\",\n",
    "    color=\"b-\",\n",
    "    test_eval=None,\n",
    "):\n",
    "    # plot the curve\n",
    "    plt.plot(\n",
    "        np.arange(len(signal)), signal, color, linewidth=\"3\", label=ylabel + \" val\"\n",
    "    )\n",
    "    # if available, add the final (test) performance\n",
    "    if test_eval is not None:\n",
    "        plt.hlines(\n",
    "            test_eval,\n",
    "            xmin=0,\n",
    "            xmax=len(signal),\n",
    "            linestyles=\"dashed\",\n",
    "            label=ylabel + \" test\",\n",
    "        )\n",
    "        plt.text(\n",
    "            len(signal),\n",
    "            test_eval,\n",
    "            \"{:.3f}\".format(test_eval),\n",
    "        )\n",
    "    # set x- and ylabels, add legend, save the figure\n",
    "    plt.xlabel(xlabel), plt.ylabel(ylabel)\n",
    "    plt.legend()\n",
    "    plt.savefig(name + file_name, bbox_inches=\"tight\")\n",
    "    plt.show()"
   ]
  },
  {
   "cell_type": "markdown",
   "metadata": {
    "id": "YzRd-TiY3puF"
   },
   "source": [
    "### 2.3 Training procedure"
   ]
  },
  {
   "cell_type": "code",
   "execution_count": 9,
   "metadata": {
    "id": "CMhQWbM1QcBM"
   },
   "outputs": [],
   "source": [
    "# PLEASE DO NOT REMOVE!\n",
    "# The training procedure\n",
    "def training(\n",
    "    name, max_patience, num_epochs, model, optimizer, training_loader, val_loader\n",
    "):\n",
    "    nll_val = []\n",
    "    error_val = []\n",
    "    best_nll = 1000.0\n",
    "    patience = 0\n",
    "\n",
    "    # Main training loop\n",
    "    for e in range(num_epochs):\n",
    "        model.train()  # set the model to the training mode\n",
    "        # load batches\n",
    "        for indx_batch, (batch, targets) in enumerate(training_loader):\n",
    "            # calculate the forward pass (loss function for given images and labels)\n",
    "            loss = model.forward(batch, targets)\n",
    "            # remember we need to zero gradients! Just in case!\n",
    "            optimizer.zero_grad()\n",
    "            # calculate backward pass\n",
    "            loss.backward(retain_graph=True)\n",
    "            # run the optimizer\n",
    "            optimizer.step()\n",
    "\n",
    "        # Validation: Evaluate the model on the validation data\n",
    "        loss_e, error_e = evaluation(val_loader, model_best=model, epoch=e)\n",
    "        nll_val.append(loss_e)  # save for plotting\n",
    "        error_val.append(error_e)  # save for plotting\n",
    "\n",
    "        # Early-stopping: update the best performing model and break training if no\n",
    "        # progress is observed.\n",
    "        if e == 0:\n",
    "            torch.save(model, name + \".model\")\n",
    "            best_nll = loss_e\n",
    "        else:\n",
    "            if loss_e < best_nll:\n",
    "                torch.save(model, name + \".model\")\n",
    "                best_nll = loss_e\n",
    "                patience = 0\n",
    "            else:\n",
    "                patience = patience + 1\n",
    "\n",
    "        if patience > max_patience:\n",
    "            break\n",
    "\n",
    "    # Return nll and classification error.\n",
    "    nll_val = np.asarray(nll_val)\n",
    "    error_val = np.asarray(error_val)\n",
    "\n",
    "    return nll_val, error_val"
   ]
  },
  {
   "cell_type": "markdown",
   "metadata": {
    "id": "gHYGz3G87nuk"
   },
   "source": [
    "### 2.4 Experiments"
   ]
  },
  {
   "cell_type": "markdown",
   "metadata": {
    "id": "op-YbN-JREqw"
   },
   "source": [
    "#### Initialize dataloaders"
   ]
  },
  {
   "cell_type": "code",
   "execution_count": 10,
   "metadata": {
    "id": "R_cRaP3gRET1"
   },
   "outputs": [],
   "source": [
    "# PLEASE DO NOT REMOVE\n",
    "# Initialize training, validation and test sets.\n",
    "train_data = Digits(mode=\"train\")\n",
    "val_data = Digits(mode=\"val\")\n",
    "test_data = Digits(mode=\"test\")\n",
    "\n",
    "# Initialize data loaders.\n",
    "training_loader = DataLoader(train_data, batch_size=64, shuffle=True)\n",
    "val_loader = DataLoader(val_data, batch_size=64, shuffle=False)\n",
    "test_loader = DataLoader(test_data, batch_size=64, shuffle=False)"
   ]
  },
  {
   "cell_type": "code",
   "execution_count": 11,
   "metadata": {
    "id": "2Lqwm5c3oRia"
   },
   "outputs": [
    {
     "name": "stdout",
     "output_type": "stream",
     "text": [
      "How do we get our data from Digits class? \n",
      "\n",
      "Feature example: [ 0.  0.  0. 12. 13.  5.  0.  0.  0.  0.  0. 11. 16.  9.  0.  0.  0.  0.\n",
      "  3. 15. 16.  6.  0.  0.  0.  7. 15. 16. 16.  2.  0.  0.  0.  0.  1. 16.\n",
      " 16.  3.  0.  0.  0.  0.  1. 16. 16.  6.  0.  0.  0.  0.  1. 16. 16.  6.\n",
      "  0.  0.  0.  0.  0. 11. 16. 10.  0.  0.]\n",
      "Feature example shape: (64,)\n",
      "Label example: 1\n"
     ]
    }
   ],
   "source": [
    "print(\"How do we get our data from Digits class? \\n\")\n",
    "print(f\"Feature example: {train_data[1][0]}\")\n",
    "print(f\"Feature example shape: {train_data[1][0].shape}\")\n",
    "print(f\"Label example: {train_data[1][1]}\")"
   ]
  },
  {
   "cell_type": "code",
   "execution_count": 12,
   "metadata": {
    "id": "F5OuaSTOhocZ"
   },
   "outputs": [
    {
     "name": "stdout",
     "output_type": "stream",
     "text": [
      "How do we get our data from Pytorch DataLoader class? \n",
      "\n",
      "Feature batch shape: torch.Size([64, 64])\n",
      "Labels batch shape: torch.Size([64])\n",
      "\n",
      "\n",
      "What happens if we reshape a feature batch? \n",
      "\n",
      "Feature batch shape after reshape: torch.Size([64, 1, 8, 8])\n",
      "\n",
      "\n",
      "What happens if we flatten a reshaped feature batch? \n",
      "\n",
      "Feature batch shape after flatten: torch.Size([64, 64])\n"
     ]
    }
   ],
   "source": [
    "print(\"How do we get our data from Pytorch DataLoader class? \\n\")\n",
    "train_features, train_labels = next(iter(training_loader))\n",
    "print(f\"Feature batch shape: {train_features.size()}\")\n",
    "print(f\"Labels batch shape: {train_labels.size()}\")\n",
    "\n",
    "print(\"\\n\\nWhat happens if we reshape a feature batch? \\n\")\n",
    "reshape = Reshape(size=(1, 8, 8))\n",
    "train_features_reshaped = reshape(train_features)\n",
    "print(f\"Feature batch shape after reshape: {train_features_reshaped.size()}\")\n",
    "\n",
    "print(\"\\n\\nWhat happens if we flatten a reshaped feature batch? \\n\")\n",
    "flatten = Flatten()\n",
    "train_features_flattened = flatten(train_features_reshaped)\n",
    "print(f\"Feature batch shape after flatten: {train_features_flattened.size()}\")"
   ]
  },
  {
   "cell_type": "markdown",
   "metadata": {
    "id": "s3ni_8Pv3iuG"
   },
   "source": [
    "#### Initialize hyperparameters"
   ]
  },
  {
   "cell_type": "code",
   "execution_count": 13,
   "metadata": {
    "id": "dnMs4gcLRLEK"
   },
   "outputs": [],
   "source": [
    "# PLEASE DO NOT REMOVE\n",
    "# Hyperparameters\n",
    "# -> data hyperparams\n",
    "D = 64  # input dimension\n",
    "\n",
    "# -> model hyperparams\n",
    "M = 256  # the number of neurons in scale (s) and translation (t) nets\n",
    "K = 10  # the number of labels\n",
    "num_kernels = 32  # the number of kernels for CNN\n",
    "\n",
    "# -> training hyperparams\n",
    "lr = 1e-3  # learning rate\n",
    "wd = 1e-5  # weight decay\n",
    "num_epochs = 1000  # max. number of epochs\n",
    "max_patience = 20  # an early stopping is used, if training doesn't improve for longer than 20 epochs, it is stopped"
   ]
  },
  {
   "cell_type": "markdown",
   "metadata": {
    "id": "9VDyHP173vLF"
   },
   "source": [
    "#### Running experiments"
   ]
  },
  {
   "cell_type": "markdown",
   "metadata": {
    "id": "f9T9nXcE3xF2"
   },
   "source": [
    "In the code below, you are supposed to implement architectures for MLP and CNN. For properly implementing these architectures, you can get 0.5pt for each of them."
   ]
  },
  {
   "cell_type": "code",
   "execution_count": 14,
   "metadata": {
    "id": "AZH7ahwBRP9B"
   },
   "outputs": [
    {
     "name": "stdout",
     "output_type": "stream",
     "text": [
      "\n",
      "-> START classifier_mlp\n",
      "Epoch: 0, val nll=1.8367610931396485, val ce=0.6657142857142857\n",
      "Epoch: 10, val nll=0.26246967588152204, val ce=0.05714285714285714\n",
      "Epoch: 20, val nll=0.1653176416669573, val ce=0.03142857142857143\n",
      "Epoch: 30, val nll=0.12882167475564138, val ce=0.02857142857142857\n",
      "Epoch: 40, val nll=0.11007740838187081, val ce=0.025714285714285714\n",
      "Epoch: 50, val nll=0.10178965296064105, val ce=0.025714285714285714\n",
      "Epoch: 60, val nll=0.09623388051986695, val ce=0.025714285714285714\n",
      "Epoch: 70, val nll=0.09078118290219989, val ce=0.025714285714285714\n",
      "Epoch: 80, val nll=0.08876285757337297, val ce=0.02857142857142857\n",
      "Epoch: 90, val nll=0.08389317308153425, val ce=0.025714285714285714\n",
      "Epoch: 100, val nll=0.08459180099623544, val ce=0.025714285714285714\n",
      "Epoch: 110, val nll=0.0841798986707415, val ce=0.025714285714285714\n",
      "Epoch: 120, val nll=0.08376552036830358, val ce=0.025714285714285714\n",
      "-> FINAL PERFORMANCE: nll=0.28714609199455654, ce=0.08053691275167785\n"
     ]
    },
    {
     "data": {
      "image/png": "[encoded data removed]",
      "text/plain": [
       "<Figure size 432x288 with 1 Axes>"
      ]
     },
     "metadata": {
      "needs_background": "light"
     },
     "output_type": "display_data"
    },
    {
     "data": {
      "image/png": "[encoded data removed]",
      "text/plain": [
       "<Figure size 432x288 with 1 Axes>"
      ]
     },
     "metadata": {
      "needs_background": "light"
     },
     "output_type": "display_data"
    },
    {
     "name": "stdout",
     "output_type": "stream",
     "text": [
      "\n",
      "-> START classifier_cnn\n",
      "Epoch: 0, val nll=1.3082183401925223, val ce=0.20285714285714285\n",
      "Epoch: 10, val nll=0.10551141193934849, val ce=0.02857142857142857\n",
      "Epoch: 20, val nll=0.0825446925844465, val ce=0.022857142857142857\n",
      "Epoch: 30, val nll=0.07203603991440365, val ce=0.017142857142857144\n",
      "Epoch: 40, val nll=0.06795065509421484, val ce=0.02\n",
      "Epoch: 50, val nll=0.06483305960893632, val ce=0.017142857142857144\n",
      "Epoch: 60, val nll=0.06703079330069678, val ce=0.02\n",
      "Epoch: 70, val nll=0.062472144940069745, val ce=0.017142857142857144\n",
      "Epoch: 80, val nll=0.06394098092402731, val ce=0.017142857142857144\n",
      "Epoch: 90, val nll=0.06367448012743677, val ce=0.017142857142857144\n",
      "Epoch: 100, val nll=0.06424366402838912, val ce=0.017142857142857144\n",
      "-> FINAL PERFORMANCE: nll=0.2567198340524763, ce=0.06711409395973154\n"
     ]
    },
    {
     "data": {
      "image/png": "[encoded data removed]",
      "text/plain": [
       "<Figure size 432x288 with 1 Axes>"
      ]
     },
     "metadata": {
      "needs_background": "light"
     },
     "output_type": "display_data"
    },
    {
     "data": {
      "image/png": "[encoded data removed]",
      "text/plain": [
       "<Figure size 432x288 with 1 Axes>"
      ]
     },
     "metadata": {
      "needs_background": "light"
     },
     "output_type": "display_data"
    }
   ],
   "source": [
    "# PLEASE DO NOT REMOVE and FILL IN WHEN NECESSARY!\n",
    "# We will run two models: MLP and CNN\n",
    "names = [\"classifier_mlp\", \"classifier_cnn\"]\n",
    "\n",
    "# loop over models\n",
    "for name in names:\n",
    "    print(\"\\n-> START {}\".format(name))\n",
    "    # Create a folder (REMEMBER: You must mount your drive if you use Colab!)\n",
    "    if name == \"classifier_mlp\":\n",
    "        name = name + \"_M_\" + str(M)\n",
    "    elif name == \"classifier_cnn\":\n",
    "        name = name + \"_M_\" + str(M) + \"_kernels_\" + str(num_kernels)\n",
    "\n",
    "    # Create a folder if necessary\n",
    "    result_dir = os.path.join(results_dir, \"results\", name + \"/\")\n",
    "\n",
    "    # =========\n",
    "    # MAKE SURE THAT \"result_dir\" IS A PATH TO A LOCAL FOLDER OR A GOOGLE COLAB FOLDER (DEFINED IN CELL 3)\n",
    "    result_dir = \"./\"  # (current folder)\n",
    "    # =========\n",
    "    if not (os.path.exists(result_dir)):\n",
    "        os.mkdir(result_dir)\n",
    "\n",
    "    # MLP\n",
    "    if name[0:14] == \"classifier_mlp\":\n",
    "        # =========\n",
    "        # GRADING:\n",
    "        # 0\n",
    "        # 0.5pt if properly implemented\n",
    "        # =========\n",
    "        # ------\n",
    "        # PLEASE FILL IN:\n",
    "        classnet = nn.Sequential( \n",
    "\n",
    "            # local function that reshapes a matrix to a vector (grid to line)\n",
    "            Flatten(),\n",
    "            # lin layer w/ 64 input features and 100 output\n",
    "            nn.Linear(64, 100), \n",
    "            # ReLU activation function _/\n",
    "            nn.ReLU(),  \n",
    "            # size and amount of layers are up to me, but final lin layer must be 10 (10 nodes at end)\n",
    "            nn.Linear(100, 10),\n",
    "            # lsm activation at end as explained before\n",
    "            nn.LogSoftmax(dim=1),  \n",
    "            \n",
    "            )\n",
    "        \n",
    "        # You are asked here to propose your own architecture\n",
    "        # NOTE: Please remember that the output must be LogSoftmax!\n",
    "        # ------\n",
    "        pass\n",
    "\n",
    "    # CNN \n",
    "    # keeps the order of the pixels, the convolutional layer has a filter/kernel which moves over the image that create the next layer\n",
    "    # in CNNs we are changing th kernel layer by layer, not the image (the kernel gets better)\n",
    "    # add padding of the same type as background so your image does not get smaller\n",
    "    elif name[0:14] == \"classifier_cnn\":\n",
    "        # =========\n",
    "        # GRADING:\n",
    "        # 0\n",
    "        # 0.5pt if properly implemented\n",
    "        # =========\n",
    "        # ------\n",
    "        # PLEASE FILL IN:\n",
    "        classnet = nn.Sequential(\n",
    "            \n",
    "            # another local function that reshpaes the input into a 4D tensor with specified dims\n",
    "            Reshape([1, 8, 8]),\n",
    "            # first convolution layer with chosen kernel sie n padding\n",
    "            nn.Conv2d(1, num_kernels, kernel_size=3, padding=1),\n",
    "            # activation _/\n",
    "            nn.ReLU(),\n",
    "            # decided to add second conv layer for complexity~\n",
    "            nn.Conv2d(num_kernels, num_kernels, kernel_size=3, padding=1),\n",
    "            # activation _/\n",
    "            nn.ReLU(), \n",
    "            # found a powerful pooling method - 2D\n",
    "            nn.MaxPool2d(2, 2), \n",
    "            # back to 1D\n",
    "            Flatten(),\n",
    "            # linear again with more input features\n",
    "            nn.Linear(num_kernels * 4 * 4, 100), \n",
    "            # activation _/\n",
    "            nn.ReLU(),\n",
    "            # final layer to ensire resulting size 10\n",
    "            nn.Linear(100, 10),  \n",
    "            # LogSoftMax as required to run properly\n",
    "            nn.LogSoftmax(dim=1),\n",
    "        )\n",
    "        #\n",
    "        # You are asked here to propose your own architecture\n",
    "        # NOTE: Plese note that the images are represented as vectors, thus, you must\n",
    "        # use Reshape(size) as the first layer, and Flatten() after all convolutional\n",
    "        # layers and before linear layers.\n",
    "        # NOTE: Please remember that the output must be LogSoftmax!\n",
    "        # ------\n",
    "        pass\n",
    "\n",
    "    # Init ClassifierNN\n",
    "    model = ClassifierNeuralNet(classnet)\n",
    "\n",
    "    # Init OPTIMIZER (here we use ADAMAX)\n",
    "    optimizer = torch.optim.Adamax(\n",
    "        [p for p in model.parameters() if p.requires_grad == True],\n",
    "        lr=lr,\n",
    "        weight_decay=wd,\n",
    "    )\n",
    "\n",
    "    # Training procedure\n",
    "    nll_val, error_val = training(\n",
    "        name=result_dir + name,\n",
    "        max_patience=max_patience,\n",
    "        num_epochs=num_epochs,\n",
    "        model=model,\n",
    "        optimizer=optimizer,\n",
    "        training_loader=training_loader,\n",
    "        val_loader=val_loader,\n",
    "    )\n",
    "\n",
    "    # The final evaluation (on the test set)\n",
    "    test_loss, test_error = evaluation(name=result_dir + name, test_loader=test_loader)\n",
    "    # write the results to a file\n",
    "    f = open(result_dir + name + \"_test_loss.txt\", \"w\")\n",
    "    f.write(\"NLL: \" + str(test_loss) + \"\\nCE: \" + str(test_error))\n",
    "    f.close()\n",
    "    # create curves\n",
    "    plot_curve(\n",
    "        result_dir + name,\n",
    "        nll_val,\n",
    "        file_name=\"_nll_val_curve.pdf\",\n",
    "        ylabel=\"nll\",\n",
    "        test_eval=test_loss,\n",
    "    )\n",
    "    plot_curve(\n",
    "        result_dir + name,\n",
    "        error_val,\n",
    "        file_name=\"_ca_val_curve.pdf\",\n",
    "        ylabel=\"ce\",\n",
    "        color=\"r-\",\n",
    "        test_eval=test_error,\n",
    "    )"
   ]
  },
  {
   "cell_type": "markdown",
   "metadata": {
    "id": "oFX-DzH9ftPg"
   },
   "source": [
    "## 2.5 Analysis"
   ]
  },
  {
   "cell_type": "markdown",
   "metadata": {
    "id": "2-TFtGdZfz3a"
   },
   "source": [
    "**Question 3 (0-0.5pt)**: Please compare the convergence of MLP and CNN in terms of the loss function and the classification error.\n",
    "\n",
    "**Answer**: Both our algorithms converge to a quite low loss/error which is good, but is in interesing to see the CNN converge faster. It makes sense tho, considering that CNN is more complex overall and can extract more and better features from the given data. CNNs use convolutional layers as oppoosed to a fully connected layers in MLP, which allow CNNs to focus more locally inside each data while MLPs remain more general/overall in their approach to learning features. Thus, we can conclude that CNNs use their ability to learn more complex features from the data to converge faster. Our CNN is lower, though not by much in both loss (0.2567198340524763 vs  0.28714609199455654) as well as class. error (0.06711409395973154 vs 0.08053691275167785) in its final performance and during the training it had a sharper decline though also wasn't as smooth sialing as MLP was. (images in pdf version)"
   ]
  },
  {
   "cell_type": "markdown",
   "metadata": {
    "id": "0f2P57ZmlwXz"
   },
   "source": [
    "**Question 4 (0-0.5pt)**: In general, for a properly picked architectures, a CNN should work better than an MLP. Did you notice that? Why (in general) CNNs are better suited to images than MLPs?\n",
    "\n",
    "**Answer**: It seems to be that way thought this may be a case of dataset so simple a more powerful architecture is wasted. But, CNN was better overall and form past experience I know it is better for image processing than MLP. It has a few advantages, one which was mentioned above and that is the ability to learn local features fue to the use of conv layers, rhather than petterns in the image overall, which results in more precise and sensitive image recognition. "
   ]
  },
  {
   "cell_type": "markdown",
   "metadata": {
    "id": "1QJ_mRdT7Ais"
   },
   "source": [
    "## 3 Application to Street House View Numbers (SVHN) (6pt)"
   ]
  },
  {
   "cell_type": "markdown",
   "metadata": {
    "id": "YHhUUaYL7GEx"
   },
   "source": [
    "Please repeat (some) of the code in the previous section and apply a bigger convolutional neural network (CNN) to the following dataset:\n",
    "\n",
    "http://ufldl.stanford.edu/housenumbers/\n",
    "\n",
    "Please follow the following steps:\n",
    "1. (1pt) Create appropriate Dataset class. Please remember to use the original training data and test data, and also to create a validation set from the traning data (at least 10% of the training examples). **Do not use extra examples!**\n",
    "2. (1pt) Implement an architecture that will give at most 0.1 classification error. For instance, see this paper as a reference: https://arxiv.org/pdf/1204.3968.pdf#:~:text=The%20SVHN%20classification%20dataset%20%5B8,set%20of%20more%20difficult%20samples\n",
    "3. (1pt) Think of an extra component that could improve the performance (e.g., a regularization, specific activation functions).\n",
    "4. (1pt) Provide a good explanation of the applied architecture and a description of all components.\n",
    "5. (2pt) Analyze the results.\n",
    "\n",
    "**Please be very precise, comment your code and provide a comprehensive and clear analysis.**"
   ]
  },
  {
   "cell_type": "code",
   "execution_count": 15,
   "metadata": {},
   "outputs": [],
   "source": [
    "# Load in the data yourself\n",
    "# But otherwise its mostly copy paste\n",
    "# the output should be digit in the center of the image so 0-9 again"
   ]
  },
  {
   "cell_type": "code",
   "execution_count": 16,
   "metadata": {},
   "outputs": [],
   "source": [
    "import numpy as np\n",
    "from scipy.io import loadmat\n",
    "from sklearn.utils import shuffle\n",
    "\n",
    "# found method to downlaod it from within the code using torchvision but also sklearn\n",
    "class SVHNDataset:\n",
    "    def __init__(self, mode=\"train\", transforms=None):\n",
    "        svhn = loadmat('/dataset/train_32x32.mat')\n",
    "        # format coppied from previous part\n",
    "        if mode == \"train\":\n",
    "            # .astype is probably wrong, but i end up tranforming toTensor as was mentione anyway and this version runs without errors\n",
    "            self.data = svhn['X'][:1000].transpose(3, 0, 1, 2).astype(np.float32)\n",
    "            self.targets = svhn['y'][:1000].reshape(-1)\n",
    "        elif mode == \"val\":\n",
    "            self.data = svhn['X'][1000:1350].transpose(3, 0, 1, 2).astype(np.float32)\n",
    "            self.targets = svhn['y'][1000:1350].reshape(-1)\n",
    "        else:\n",
    "            self.data = svhn['X'][1350:].transpose(3, 0, 1, 2).astype(np.float32)\n",
    "            self.targets = svhn['y'][1350:].reshape(-1)\n",
    "            \n",
    "        # add shuffle bcs we are not using all data and we dont want to overfit our model\n",
    "        self.data, self.targets = shuffle(self.data, self.targets)\n",
    "\n",
    "        self.transforms = transforms\n",
    "\n",
    "    def __len__(self):\n",
    "        return len(self.data)\n",
    "\n",
    "    def __getitem__(self, idx):\n",
    "        sample_x = self.data[idx]\n",
    "        sample_y = self.targets[idx]\n",
    "        if self.transforms:\n",
    "            sample_x = self.transforms(sample_x)\n",
    "        return sample_x, sample_y\n"
   ]
  },
  {
   "cell_type": "code",
   "execution_count": 34,
   "metadata": {},
   "outputs": [],
   "source": [
    "import torch\n",
    "import torch.nn as nn\n",
    "import torch.optim as optim\n",
    "from torchvision.transforms import ToTensor\n",
    "from torch.utils.data import DataLoader\n",
    "from torchvision.datasets import SVHN"
   ]
  },
  {
   "cell_type": "code",
   "execution_count": 33,
   "metadata": {},
   "outputs": [
    {
     "name": "stdout",
     "output_type": "stream",
     "text": [
      "Using downloaded and verified file: ./data\\train_32x32.mat\n",
      "Using downloaded and verified file: ./data\\train_32x32.mat\n",
      "Using downloaded and verified file: ./data\\test_32x32.mat\n",
      "Epoch: 0, val nll=0.36420340118643574, val ce=0.10504115647651419\n",
      "Epoch: 10, val nll=0.11532345648285883, val ce=0.03139631707550132\n",
      "Epoch: 20, val nll=0.05574742349548308, val ce=0.014988328760391498\n",
      "Epoch: 30, val nll=0.025627446491487633, val ce=0.0067160817396289775\n",
      "Epoch: 40, val nll=0.017674987877416393, val ce=0.0049415072962310765\n",
      "-> FINAL PERFORMANCE: nll=0.31603535226550233, ce=0.06580362630608481\n"
     ]
    },
    {
     "data": {
      "image/png": "[encoded data removed]",
      "text/plain": [
       "<Figure size 432x288 with 1 Axes>"
      ]
     },
     "metadata": {
      "needs_background": "light"
     },
     "output_type": "display_data"
    },
    {
     "data": {
      "image/png": "[encoded data removed]",
      "text/plain": [
       "<Figure size 432x288 with 1 Axes>"
      ]
     },
     "metadata": {
      "needs_background": "light"
     },
     "output_type": "display_data"
    }
   ],
   "source": [
    "# defined hyperparameters\n",
    "batch_size = 64\n",
    "learning_rate = 0.001\n",
    "num_epochs = 50\n",
    "\n",
    "# transform (tho i think the import is already doing this)\n",
    "transforms = ToTensor()\n",
    "\n",
    "# created train, validation, and test datasets as per previous code, check for download so it doesnt do it every run\n",
    "train_dataset = SVHN(root='./data', split='train', download=True, transform=transforms)\n",
    "val_dataset = SVHN(root='./data', split='train', download=True, transform=transforms)\n",
    "test_dataset = SVHN(root='./data', split='test', download=True, transform=transforms)\n",
    "\n",
    "# rewrite loaders, included shuffle bcs its a good idea\n",
    "train_loader = DataLoader(train_dataset, batch_size=batch_size, shuffle=True)\n",
    "val_loader = DataLoader(val_dataset, batch_size=batch_size)\n",
    "test_loader = DataLoader(test_dataset, batch_size=batch_size)\n",
    "\n",
    "# removed loop bcs we are only running CNN\n",
    "classnet = nn.Sequential(\n",
    "    # used the same pooling and activation as before, but addedd normalization by batch as well as dropout to increase performace\n",
    "    # so I would get the best in the least epochs\n",
    "    # the numbers were mostly brute-forced until I stopped getting the math errors ;_;\n",
    "    nn.Conv2d(in_channels=3, out_channels=40, kernel_size=(5,5), padding=1, stride=1),\n",
    "    # first 2d batchnorm, the feature size is unnecessarily large\n",
    "    nn.BatchNorm2d(num_features=40),\n",
    "    nn.ReLU(),\n",
    "    # i could only get 3,3 and stride 2 to work for both datasets for some reason\n",
    "    nn.MaxPool2d(kernel_size=(3,3), stride=2),\n",
    "    # i started with lower droput and steadily increased, tho I am not sure if it changes much as it is too long to run ore times\n",
    "    nn.Dropout2d(p=0.1),\n",
    "    # and then I repeat with different, usually rising numbers\n",
    "    nn.Conv2d(in_channels=40, out_channels=80, kernel_size=(5,5), padding=1, stride=1),\n",
    "    nn.BatchNorm2d(num_features=80),\n",
    "    nn.ReLU(),\n",
    "    nn.MaxPool2d(kernel_size=(3,3), stride=2),\n",
    "    nn.Dropout2d(p=0.2),\n",
    "    # another round\n",
    "    nn.Conv2d(in_channels=80, out_channels=160, kernel_size=(5,5), padding=1, stride=1),\n",
    "    nn.BatchNorm2d(num_features=160),\n",
    "    nn.ReLU(),\n",
    "    nn.MaxPool2d(kernel_size=(3,3), stride=2),\n",
    "    # the flatten here is a bit early, I wanted to try less dims\n",
    "    Flatten(),\n",
    "    nn.Linear(in_features=160, out_features=128),\n",
    "    nn.BatchNorm1d(num_features=128),\n",
    "    nn.ReLU(),\n",
    "    nn.Dropout(p=0.3),\n",
    "    # finally done\n",
    "    nn.Linear(in_features=128, out_features=10),\n",
    "    nn.LogSoftmax(dim=1)\n",
    ")\n",
    "\n",
    "\n",
    "\n",
    "#all this code is coppied from the previous part\n",
    "\n",
    "    # Init ClassifierNN\n",
    "model = ClassifierNeuralNet(classnet)\n",
    "   # Init OPTIMIZER (here we use ADAMAX)\n",
    "optimizer = torch.optim.Adamax(\n",
    "        [p for p in model.parameters() if p.requires_grad == True],\n",
    "        lr=lr,\n",
    "        weight_decay=wd,\n",
    ")\n",
    "    # Training procedure\n",
    "nll_val, error_val = training(\n",
    "        name=result_dir + name,\n",
    "        max_patience=max_patience,\n",
    "        num_epochs=num_epochs,\n",
    "        model=model,\n",
    "        optimizer=optimizer,\n",
    "        training_loader=train_loader,\n",
    "        val_loader=val_loader,\n",
    "    )\n",
    "    # The final evaluation (on the test set)\n",
    "test_loss, test_error = evaluation(name=result_dir + name, test_loader=test_loader)\n",
    "# write the results to a file\n",
    "f = open(result_dir + name + \"_test_loss.txt\", \"w\")\n",
    "f.write(\"NLL: \" + str(test_loss) + \"\\nCE: \" + str(test_error))\n",
    "f.close()\n",
    "# create curves\n",
    "plot_curve(\n",
    "    result_dir + name,\n",
    "    nll_val,\n",
    "    file_name=\"_nll_val_curve.pdf\",\n",
    "    ylabel=\"nll\",\n",
    "    test_eval=test_loss,\n",
    ")\n",
    "plot_curve(\n",
    "    result_dir + name,\n",
    "    error_val,\n",
    "    file_name=\"_ca_val_curve.pdf\",\n",
    "    ylabel=\"ce\",\n",
    "    color=\"r-\",\n",
    "    test_eval=test_error,\n",
    ")"
   ]
  },
  {
   "cell_type": "markdown",
   "metadata": {},
   "source": [
    "**Extra features:** I added Batch Normalization and Droput which we talked about in ML everywhere to improve the performance, but also these were mothids suggesteed for better perfomance on the internet. My idea was to see if I could get a one time home-run, and then if I run it long enough potentially even to get it to overfit just to get a better understanding of the inner working of the code. It was extremely hard to get it to match mathematically, I kept getting math errors but eventually I got a beefy CNN to run. Eseentially it is the same as the original CNN, with extra steps. I tried to keep it 2D most of the time as that is the pooling I used succesfully before, but also tried the 1D after flatten just to prove that it is still possible without breaking it. "
   ]
  },
  {
   "cell_type": "markdown",
   "metadata": {},
   "source": [
    "**Architecture:** The achitecture is almost the exact same as with the first CNN, though we have a new Dataset and we added both batch normalization and dropout to each layer. We also increased the number of in-between layers to 4 to create a more powerful cnn. The testing and validation code is all otherwise the same. I have also removed the loop inside which the CNN class was as we are no longer running both MLP and CNN. I am reusing the whole classification code as I have alrady spent time implementing it and it seems to work great. Thus, we are using Negaive Log Likelihood Loss here as well, and thus I kep Log SoftMax as final function inside the CNN. Originally I ran it just 10 epoch which got me around 0.8 CE which is more than good enough but I also ran for longer to get a nicer graph (the first one looked like a crooked diagonal line) and as previously mentioned to see if I can get it to overfit. (Unlikely given my limited computational power) Many of the componenets are explained in the comments if they are new, but otherwise the code is mostly reused :)"
   ]
  },
  {
   "cell_type": "markdown",
   "metadata": {},
   "source": [
    "**Analysis:** In the original 10 epoch run, it was already clear that the CNN was increadibly powerful. Not only did it take forever to run, it also was able to get the asked for result of CE >0.1 within the 10 epochs. The graph looked like a crooked diagonal line, showing a steady progress towards the final model's accuracy. There was a plateu between 5 and 6th epoch, which I assume could have been through either sheer statistical probability or potentially the result of using logs. Logs are less prone to small changes, so it is possible the learing between these two epochs wasn't significant enough to affect the loss when using logs. The final run, which took about 3 hours, of 50 epochs was done to see if something weird would happen, such as overfitting. We have seen such a graph, that goes back up in class but I realized I am probabbly overestimating the quality of the CNN. I am using very large feature sizes which I suspect to be the biggest contributor to the quick convergence, as that is what is the backbone of CNNs in my understanding. I also suspect the CNN is unnecessarily complicated and I could ahve achived the same or better result using less layers and different methods. The final accuracy of the 50 epoch run was: -> FINAL PERFORMANCE: nll=0.31603535226550233, ce=0.06580362630608481, which is much less than we got during trainng on the validation set (Epoch: 40, val nll=0.017674987877416393, val ce=0.0049415072962310765). I suspect this is tangentially related to the overfitting I was expecting. Not exactly, but it got much better on the data it knew but nowehere near the same onyet unknown images. The difference is much larger than in the previous runs, and I am happy to see it for learning purposes. The graphs look very nive however, a smooth line much nicer than the first cnn. I suspect this is teh result of each run's complexity which allows for less variability between adjacent runs."
   ]
  },
  {
   "cell_type": "code",
   "execution_count": null,
   "metadata": {},
   "outputs": [],
   "source": []
  }
 ],
 "metadata": {
  "colab": {
   "provenance": [],
   "toc_visible": true
  },
  "kernelspec": {
   "display_name": "Python 3 (ipykernel)",
   "language": "python",
   "name": "python3"
  },
  "language_info": {
   "codemirror_mode": {
    "name": "ipython",
    "version": 3
   },
   "file_extension": ".py",
   "mimetype": "text/x-python",
   "name": "python",
   "nbconvert_exporter": "python",
   "pygments_lexer": "ipython3",
   "version": "3.9.9"
  }
 },
 "nbformat": 4,
 "nbformat_minor": 4
}
